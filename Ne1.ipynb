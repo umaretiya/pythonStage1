{
  "nbformat": 4,
  "nbformat_minor": 0,
  "metadata": {
    "colab": {
      "name": "Ne1.ipynb",
      "provenance": [],
      "authorship_tag": "ABX9TyNPzf49/6mz180S+ttVDP53",
      "include_colab_link": true
    },
    "kernelspec": {
      "name": "python3",
      "display_name": "Python 3"
    },
    "language_info": {
      "name": "python"
    }
  },
  "cells": [
    {
      "cell_type": "markdown",
      "metadata": {
        "id": "view-in-github",
        "colab_type": "text"
      },
      "source": [
        "<a href=\"https://colab.research.google.com/github/umaretiya/pythonStage1/blob/main/Ne1.ipynb\" target=\"_parent\"><img src=\"https://colab.research.google.com/assets/colab-badge.svg\" alt=\"Open In Colab\"/></a>"
      ]
    },
    {
      "cell_type": "code",
      "execution_count": 2,
      "metadata": {
        "id": "79wWxDPpi_f0"
      },
      "outputs": [],
      "source": [
        "#$$"
      ]
    },
    {
      "cell_type": "code",
      "source": [
        ""
      ],
      "metadata": {
        "id": "Oz8eW1AtlDnO"
      },
      "execution_count": null,
      "outputs": []
    },
    {
      "cell_type": "markdown",
      "source": [
        "$delta = (-b +sqrt(b^2-4ac))/2a$\n"
      ],
      "metadata": {
        "id": "P98cuYfMkDjF"
      }
    },
    {
      "cell_type": "code",
      "source": [
        "string = 'PKV-89415-PLN'"
      ],
      "metadata": {
        "id": "lrxLsfC4nl_b"
      },
      "execution_count": 3,
      "outputs": []
    },
    {
      "cell_type": "code",
      "source": [
        "r= string.split('-')"
      ],
      "metadata": {
        "id": "G1jBKW-3n0tL"
      },
      "execution_count": 5,
      "outputs": []
    },
    {
      "cell_type": "code",
      "source": [
        "r[0]+r[2]"
      ],
      "metadata": {
        "colab": {
          "base_uri": "https://localhost:8080/",
          "height": 35
        },
        "id": "lMb3EGsXoGzr",
        "outputId": "bc650f8d-137f-41b3-cc55-a5f433205bea"
      },
      "execution_count": 9,
      "outputs": [
        {
          "output_type": "execute_result",
          "data": {
            "application/vnd.google.colaboratory.intrinsic+json": {
              "type": "string"
            },
            "text/plain": [
              "'PKVPLN'"
            ]
          },
          "metadata": {},
          "execution_count": 9
        }
      ]
    },
    {
      "cell_type": "code",
      "source": [
        "string = 'PKV-89415-PLN'"
      ],
      "metadata": {
        "id": "DloxdHVEoGkX"
      },
      "execution_count": 10,
      "outputs": []
    },
    {
      "cell_type": "code",
      "source": [
        "r1=string[0:3]"
      ],
      "metadata": {
        "id": "BjO5t4Xpoaki"
      },
      "execution_count": 13,
      "outputs": []
    },
    {
      "cell_type": "code",
      "source": [
        "string[-1:]"
      ],
      "metadata": {
        "colab": {
          "base_uri": "https://localhost:8080/",
          "height": 35
        },
        "id": "Z0_zbJAqoaPx",
        "outputId": "a66ddb88-89c6-41dc-c2bb-c92d4e9cc5f5"
      },
      "execution_count": 24,
      "outputs": [
        {
          "output_type": "execute_result",
          "data": {
            "application/vnd.google.colaboratory.intrinsic+json": {
              "type": "string"
            },
            "text/plain": [
              "'N'"
            ]
          },
          "metadata": {},
          "execution_count": 24
        }
      ]
    },
    {
      "cell_type": "code",
      "source": [
        "r1+r1"
      ],
      "metadata": {
        "colab": {
          "base_uri": "https://localhost:8080/",
          "height": 35
        },
        "id": "Zvpo7Bh1o9Si",
        "outputId": "357cf06d-e0f7-4fab-952d-425a9e51a91d"
      },
      "execution_count": 21,
      "outputs": [
        {
          "output_type": "execute_result",
          "data": {
            "application/vnd.google.colaboratory.intrinsic+json": {
              "type": "string"
            },
            "text/plain": [
              "'PKVPKV'"
            ]
          },
          "metadata": {},
          "execution_count": 21
        }
      ]
    },
    {
      "cell_type": "code",
      "source": [
        "string = '1 0 0 1 0 1'"
      ],
      "metadata": {
        "id": "fY1flL_8pX-4"
      },
      "execution_count": 25,
      "outputs": []
    },
    {
      "cell_type": "code",
      "source": [
        "string = '1 0 0 1 0 1'\n"
      ],
      "metadata": {
        "id": "E84doU2zx8MJ"
      },
      "execution_count": 62,
      "outputs": []
    },
    {
      "cell_type": "code",
      "source": [
        "binary = string[::2]\n",
        "int(binary)"
      ],
      "metadata": {
        "colab": {
          "base_uri": "https://localhost:8080/"
        },
        "id": "eru-8AuxyBms",
        "outputId": "0b98127f-5e1a-4fa0-bce0-7b14ad67595c"
      },
      "execution_count": 72,
      "outputs": [
        {
          "output_type": "execute_result",
          "data": {
            "text/plain": [
              "100101"
            ]
          },
          "metadata": {},
          "execution_count": 72
        }
      ]
    },
    {
      "cell_type": "code",
      "source": [
        "int(binary, 2)"
      ],
      "metadata": {
        "colab": {
          "base_uri": "https://localhost:8080/"
        },
        "id": "FacPerhxyBaV",
        "outputId": "987776ba-e357-4345-d902-d5e3e4e44fd0"
      },
      "execution_count": 74,
      "outputs": [
        {
          "output_type": "execute_result",
          "data": {
            "text/plain": [
              "37"
            ]
          },
          "metadata": {},
          "execution_count": 74
        }
      ]
    },
    {
      "cell_type": "code",
      "source": [
        "print(f'Number found: {number}')"
      ],
      "metadata": {
        "id": "LKltxC3zyBDy"
      },
      "execution_count": null,
      "outputs": []
    }
  ]
}